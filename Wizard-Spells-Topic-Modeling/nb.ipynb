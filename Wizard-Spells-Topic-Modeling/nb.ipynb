{
 "cells": [
  {
   "cell_type": "code",
   "execution_count": 1,
   "metadata": {},
   "outputs": [],
   "source": [
    "import pandas as pd \n",
    "import numpy as np\n",
    "\n",
    "import requests \n",
    "from bs4 import BeautifulSoup"
   ]
  },
  {
   "cell_type": "code",
   "execution_count": 2,
   "metadata": {},
   "outputs": [],
   "source": [
    "allSpells = pd.read_html('view-source_dnd5e.wikidot.com_spells_wizard.html',index_col = 'Spell Name')"
   ]
  },
  {
   "cell_type": "code",
   "execution_count": 3,
   "metadata": {},
   "outputs": [
    {
     "data": {
      "text/html": [
       "<div>\n",
       "<style scoped>\n",
       "    .dataframe tbody tr th:only-of-type {\n",
       "        vertical-align: middle;\n",
       "    }\n",
       "\n",
       "    .dataframe tbody tr th {\n",
       "        vertical-align: top;\n",
       "    }\n",
       "\n",
       "    .dataframe thead th {\n",
       "        text-align: right;\n",
       "    }\n",
       "</style>\n",
       "<table border=\"1\" class=\"dataframe\">\n",
       "  <thead>\n",
       "    <tr style=\"text-align: right;\">\n",
       "      <th></th>\n",
       "      <th>School</th>\n",
       "      <th>Casting Time</th>\n",
       "      <th>Range</th>\n",
       "      <th>Duration</th>\n",
       "      <th>Components</th>\n",
       "      <th>Spell Level</th>\n",
       "    </tr>\n",
       "    <tr>\n",
       "      <th>Spell Name</th>\n",
       "      <th></th>\n",
       "      <th></th>\n",
       "      <th></th>\n",
       "      <th></th>\n",
       "      <th></th>\n",
       "      <th></th>\n",
       "    </tr>\n",
       "  </thead>\n",
       "  <tbody>\n",
       "    <tr>\n",
       "      <th>Acid Splash</th>\n",
       "      <td>Conjuration</td>\n",
       "      <td>1 Action</td>\n",
       "      <td>60 Feet</td>\n",
       "      <td>Instantaneous</td>\n",
       "      <td>V, S</td>\n",
       "      <td>0</td>\n",
       "    </tr>\n",
       "    <tr>\n",
       "      <th>Blade Ward</th>\n",
       "      <td>Abjuration</td>\n",
       "      <td>1 Action</td>\n",
       "      <td>Self</td>\n",
       "      <td>1 round</td>\n",
       "      <td>V, S</td>\n",
       "      <td>0</td>\n",
       "    </tr>\n",
       "    <tr>\n",
       "      <th>Booming Blade</th>\n",
       "      <td>Evocation</td>\n",
       "      <td>1 Action</td>\n",
       "      <td>Self (5-foot radius)</td>\n",
       "      <td>1 round</td>\n",
       "      <td>S, M</td>\n",
       "      <td>0</td>\n",
       "    </tr>\n",
       "    <tr>\n",
       "      <th>Chill Touch</th>\n",
       "      <td>Necromancy</td>\n",
       "      <td>1 Action</td>\n",
       "      <td>120 Feet</td>\n",
       "      <td>1 round</td>\n",
       "      <td>V, S</td>\n",
       "      <td>0</td>\n",
       "    </tr>\n",
       "    <tr>\n",
       "      <th>Control Flames</th>\n",
       "      <td>Transmutation</td>\n",
       "      <td>1 Action</td>\n",
       "      <td>60 Feet</td>\n",
       "      <td>Instantaneous or 1 hour</td>\n",
       "      <td>S</td>\n",
       "      <td>0</td>\n",
       "    </tr>\n",
       "  </tbody>\n",
       "</table>\n",
       "</div>"
      ],
      "text/plain": [
       "                       School Casting Time                 Range  \\\n",
       "Spell Name                                                         \n",
       "Acid Splash       Conjuration     1 Action               60 Feet   \n",
       "Blade Ward         Abjuration     1 Action                  Self   \n",
       "Booming Blade       Evocation     1 Action  Self (5-foot radius)   \n",
       "Chill Touch        Necromancy     1 Action              120 Feet   \n",
       "Control Flames  Transmutation     1 Action               60 Feet   \n",
       "\n",
       "                               Duration Components  Spell Level  \n",
       "Spell Name                                                       \n",
       "Acid Splash               Instantaneous       V, S            0  \n",
       "Blade Ward                      1 round       V, S            0  \n",
       "Booming Blade                   1 round       S, M            0  \n",
       "Chill Touch                     1 round       V, S            0  \n",
       "Control Flames  Instantaneous or 1 hour          S            0  "
      ]
     },
     "execution_count": 3,
     "metadata": {},
     "output_type": "execute_result"
    }
   ],
   "source": [
    "for i in range(len(allSpells)): \n",
    "    allSpells[i]['Spell Level'] = int(i)\n",
    "    allSpells[i]['Spell Level'] = allSpells[i]['Spell Level'].astype(int)\n",
    "\n",
    "allSpells = pd.concat(allSpells)\n",
    "allSpells.head()"
   ]
  },
  {
   "cell_type": "code",
   "execution_count": 4,
   "metadata": {},
   "outputs": [],
   "source": [
    "def getDescription(url : str): \n",
    "    #print(url)\n",
    "    txt = requests.get(url).text\n",
    "    soup = BeautifulSoup(txt, 'html.parser',multi_valued_attributes=None)\n",
    "\n",
    "    try: \n",
    "        description = soup.find(\"div\", {\"id\": \"page-content\"})\n",
    "        description = [x.text for x in description('p') if not ('Spell Lists.' in x.text)]\n",
    "        #parsed = '\\n'.join([x.text for x in description('p') if x.text != \"\"])\n",
    "\n",
    "        return ' '.join(description[3:])\n",
    "    except Exception as e: \n",
    "        print(e)\n",
    "        return np.NaN\n",
    "\n",
    "def getSpellText(row : pd.Series): \n",
    "    name = str(row.name).lower()\n",
    "\n",
    "    for c in [' (ua)','\\'']: #characters to delete \n",
    "        name = name.replace(c,'')\n",
    "\n",
    "    for c in [' ','/']:  #characters to replace with hyphen \n",
    "        name = name.replace(c,'-')\n",
    "        \n",
    "    url = f'http://dnd5e.wikidot.com/spell:{name}'\n",
    "    \n",
    "    return getDescription(url)"
   ]
  },
  {
   "cell_type": "code",
   "execution_count": 5,
   "metadata": {},
   "outputs": [
    {
     "name": "stdout",
     "output_type": "stream",
     "text": [
      "This spell allows you to bypass system security in order to create a secure login on a foreign system. The login you create allows you administrator-level privileges in any computer system not enhanced through technomagic. The login defeats any technomagic spells of 3rd level or lower. Once the duration of the spell expires, the login and all privileges are wiped from the system. System logs still show the activity of the user, but the user identification cannot be found or traced. At Higher Levels. When you cast this spell using a spell slot of 5th level or higher, you are able to bypass technomagic spells if the spell’s level is equal to or less than the level of the spell slot you used.\n"
     ]
    }
   ],
   "source": [
    "#debugging block \n",
    "print(getSpellText(allSpells.loc['System Backdoor (UA)']))\n"
   ]
  },
  {
   "cell_type": "code",
   "execution_count": 6,
   "metadata": {},
   "outputs": [],
   "source": [
    "allSpells['Spell Description'] = allSpells.apply(getSpellText,axis=1)"
   ]
  },
  {
   "cell_type": "code",
   "execution_count": 7,
   "metadata": {},
   "outputs": [],
   "source": [
    "#initialize to False\n",
    "allSpells['Concentration'] = False\n",
    "allSpells['Ritual'] = False \n",
    "\n",
    "filter = allSpells['Duration'].str.contains('Concentration') #find row index where spell takes concentration \n",
    "allSpells.loc[filter,'Concentration'] = True                 #at row index, concentration column, set value to True\n",
    "\n",
    "filter = allSpells['Casting Time'].str[-1] == 'R'            #find row indices where spell can be cast as ritual \n",
    "allSpells.loc[filter,'Ritual'] = True                        #give index,col to set value to True "
   ]
  },
  {
   "cell_type": "code",
   "execution_count": null,
   "metadata": {},
   "outputs": [],
   "source": [
    "#inspecting a certain spell's spell description \n",
    "allSpells.loc['Pulse Wave']['Spell Description']"
   ]
  },
  {
   "cell_type": "code",
   "execution_count": null,
   "metadata": {},
   "outputs": [],
   "source": [
    "allSpells.to_csv('Wizard Spells.csv')"
   ]
  },
  {
   "cell_type": "code",
   "execution_count": null,
   "metadata": {},
   "outputs": [],
   "source": [
    "allSpells.shape"
   ]
  },
  {
   "cell_type": "markdown",
   "metadata": {},
   "source": [
    "<h2> Trying to do some NMF on the descriptions </h2>"
   ]
  },
  {
   "cell_type": "code",
   "execution_count": 8,
   "metadata": {},
   "outputs": [],
   "source": [
    "from sklearn.feature_extraction.text import TfidfVectorizer\n",
    "import sklearn.decomposition\n",
    "\n",
    "from nltk import PorterStemmer\n",
    "from nltk.tokenize.regexp import regexp_tokenize\n",
    "from nltk.corpus import stopwords\n",
    "\n",
    "import re\n",
    "from typing import List,Set\n"
   ]
  },
  {
   "cell_type": "code",
   "execution_count": 13,
   "metadata": {},
   "outputs": [],
   "source": [
    "stops = set(stopwords.words('english'))\n",
    "stops.update({'level','feet','within'})"
   ]
  },
  {
   "cell_type": "code",
   "execution_count": 14,
   "metadata": {},
   "outputs": [],
   "source": [
    "def pprocess(desc : str,_stops : Set[str] = stops) -> str : \n",
    "    ret = desc.replace('\\'','')       #delete apostrophes so when we tolkenize we don't split contractions\n",
    "    ret = re.sub('[\\d]+[trs ][hdt]','',ret) #stuff in the format of 1st or 4rd or 45th \n",
    "    ret = regexp_tokenize(ret,r'(?u)\\b\\w\\w+\\b') #default regexp from sklearn tolkenizer \n",
    "    ret = [word for word in ret if not word.isnumeric()]\n",
    "    ret = [PorterStemmer().stem(x) for x in ret]\n",
    "    ret = [word for word in ret if word not in _stops]\n",
    "    \n",
    "    return ' '.join(ret)"
   ]
  },
  {
   "cell_type": "code",
   "execution_count": 15,
   "metadata": {},
   "outputs": [
    {
     "data": {
      "text/plain": [
       "'hurl bubbl acid choos one creatur see rang choos two creatur see rang target must succeed dexter save throw take 1d6 acid damag higher thi spell damag increas 1d6 reach 2d6 3d6 4d6'"
      ]
     },
     "execution_count": 15,
     "metadata": {},
     "output_type": "execute_result"
    }
   ],
   "source": [
    "pprocess(allSpells.loc['Acid Splash']['Spell Description'])"
   ]
  },
  {
   "cell_type": "code",
   "execution_count": 16,
   "metadata": {},
   "outputs": [],
   "source": [
    "allSpells['stemmed'] = allSpells['Spell Description'].apply(pprocess)"
   ]
  },
  {
   "cell_type": "code",
   "execution_count": 17,
   "metadata": {},
   "outputs": [],
   "source": [
    "vectorizer = TfidfVectorizer(max_df = .80\n",
    "                             ,ngram_range=(1,1)\n",
    "#                             ,max_features=5\n",
    "                             ) \n",
    "X = vectorizer.fit_transform(allSpells['stemmed'])\n"
   ]
  },
  {
   "cell_type": "code",
   "execution_count": 18,
   "metadata": {},
   "outputs": [
    {
     "name": "stdout",
     "output_type": "stream",
     "text": [
      "(402, 2296)\n",
      "['10d10' '10d12' '10d4' ... 'younger' 'yugoloth' 'zombi']\n"
     ]
    }
   ],
   "source": [
    "print(X.shape)\n",
    "print(vectorizer.get_feature_names_out())"
   ]
  },
  {
   "cell_type": "code",
   "execution_count": 27,
   "metadata": {},
   "outputs": [],
   "source": [
    "model = sklearn.decomposition.NMF(n_components=3)\n",
    "W = model.fit_transform(X)\n",
    "H = model.components_\n",
    "\n"
   ]
  },
  {
   "cell_type": "code",
   "execution_count": 28,
   "metadata": {},
   "outputs": [
    {
     "data": {
      "text/plain": [
       "array([[0.16052237, 0.        , 0.06951127],\n",
       "       [0.04921774, 0.0048186 , 0.02040316],\n",
       "       [0.08925637, 0.        , 0.1541074 ],\n",
       "       ...,\n",
       "       [0.01958648, 0.13614127, 0.13907832],\n",
       "       [0.09020379, 0.01690822, 0.12687025],\n",
       "       [0.01009162, 0.10131564, 0.02192703]])"
      ]
     },
     "execution_count": 28,
     "metadata": {},
     "output_type": "execute_result"
    }
   ],
   "source": [
    "W"
   ]
  },
  {
   "cell_type": "code",
   "execution_count": 29,
   "metadata": {},
   "outputs": [
    {
     "data": {
      "text/plain": [
       "array([[0.00000000e+00, 1.83350362e-04, 1.66457414e-02, ...,\n",
       "        0.00000000e+00, 0.00000000e+00, 1.32818002e-02],\n",
       "       [0.00000000e+00, 0.00000000e+00, 0.00000000e+00, ...,\n",
       "        1.91033527e-03, 1.77191464e-02, 9.70896576e-03],\n",
       "       [9.30197212e-03, 5.70313518e-03, 0.00000000e+00, ...,\n",
       "        1.63441038e-05, 0.00000000e+00, 1.81831439e-02]])"
      ]
     },
     "execution_count": 29,
     "metadata": {},
     "output_type": "execute_result"
    }
   ],
   "source": [
    "H"
   ]
  },
  {
   "cell_type": "code",
   "execution_count": 30,
   "metadata": {},
   "outputs": [],
   "source": [
    "import seaborn as sns \n",
    "import matplotlib.pyplot as plt "
   ]
  },
  {
   "cell_type": "code",
   "execution_count": 31,
   "metadata": {},
   "outputs": [],
   "source": [
    "h_df = pd.DataFrame(data = H\n",
    "                   ,columns = vectorizer.get_feature_names_out())"
   ]
  },
  {
   "cell_type": "code",
   "execution_count": 32,
   "metadata": {},
   "outputs": [
    {
     "data": {
      "text/html": [
       "<div>\n",
       "<style scoped>\n",
       "    .dataframe tbody tr th:only-of-type {\n",
       "        vertical-align: middle;\n",
       "    }\n",
       "\n",
       "    .dataframe tbody tr th {\n",
       "        vertical-align: top;\n",
       "    }\n",
       "\n",
       "    .dataframe thead th {\n",
       "        text-align: right;\n",
       "    }\n",
       "</style>\n",
       "<table border=\"1\" class=\"dataframe\">\n",
       "  <thead>\n",
       "    <tr style=\"text-align: right;\">\n",
       "      <th></th>\n",
       "      <th>10d10</th>\n",
       "      <th>10d12</th>\n",
       "      <th>10d4</th>\n",
       "      <th>10d6</th>\n",
       "      <th>10d8</th>\n",
       "      <th>12d12</th>\n",
       "      <th>12d6</th>\n",
       "      <th>14d6</th>\n",
       "      <th>1d10</th>\n",
       "      <th>1d12</th>\n",
       "      <th>...</th>\n",
       "      <th>wrote</th>\n",
       "      <th>wrought</th>\n",
       "      <th>ye</th>\n",
       "      <th>year</th>\n",
       "      <th>yellow</th>\n",
       "      <th>yet</th>\n",
       "      <th>yield</th>\n",
       "      <th>younger</th>\n",
       "      <th>yugoloth</th>\n",
       "      <th>zombi</th>\n",
       "    </tr>\n",
       "  </thead>\n",
       "  <tbody>\n",
       "    <tr>\n",
       "      <th>0</th>\n",
       "      <td>0.000000</td>\n",
       "      <td>0.000183</td>\n",
       "      <td>0.016646</td>\n",
       "      <td>0.012599</td>\n",
       "      <td>0.022232</td>\n",
       "      <td>0.001720</td>\n",
       "      <td>0.014761</td>\n",
       "      <td>0.000005</td>\n",
       "      <td>0.044026</td>\n",
       "      <td>0.041089</td>\n",
       "      <td>...</td>\n",
       "      <td>0.000000</td>\n",
       "      <td>0.000000</td>\n",
       "      <td>0.000000</td>\n",
       "      <td>0.000000</td>\n",
       "      <td>0.016545</td>\n",
       "      <td>0.005482</td>\n",
       "      <td>0.000000</td>\n",
       "      <td>0.000000</td>\n",
       "      <td>0.000000</td>\n",
       "      <td>0.013282</td>\n",
       "    </tr>\n",
       "    <tr>\n",
       "      <th>1</th>\n",
       "      <td>0.000000</td>\n",
       "      <td>0.000000</td>\n",
       "      <td>0.000000</td>\n",
       "      <td>0.001726</td>\n",
       "      <td>0.000000</td>\n",
       "      <td>0.001352</td>\n",
       "      <td>0.000000</td>\n",
       "      <td>0.000000</td>\n",
       "      <td>0.000000</td>\n",
       "      <td>0.000000</td>\n",
       "      <td>...</td>\n",
       "      <td>0.002227</td>\n",
       "      <td>0.006593</td>\n",
       "      <td>0.001021</td>\n",
       "      <td>0.021123</td>\n",
       "      <td>0.000061</td>\n",
       "      <td>0.000000</td>\n",
       "      <td>0.001016</td>\n",
       "      <td>0.001910</td>\n",
       "      <td>0.017719</td>\n",
       "      <td>0.009709</td>\n",
       "    </tr>\n",
       "    <tr>\n",
       "      <th>2</th>\n",
       "      <td>0.009302</td>\n",
       "      <td>0.005703</td>\n",
       "      <td>0.000000</td>\n",
       "      <td>0.000000</td>\n",
       "      <td>0.006615</td>\n",
       "      <td>0.000000</td>\n",
       "      <td>0.008959</td>\n",
       "      <td>0.008604</td>\n",
       "      <td>0.012722</td>\n",
       "      <td>0.024139</td>\n",
       "      <td>...</td>\n",
       "      <td>0.000000</td>\n",
       "      <td>0.003142</td>\n",
       "      <td>0.001247</td>\n",
       "      <td>0.008266</td>\n",
       "      <td>0.004642</td>\n",
       "      <td>0.000000</td>\n",
       "      <td>0.000120</td>\n",
       "      <td>0.000016</td>\n",
       "      <td>0.000000</td>\n",
       "      <td>0.018183</td>\n",
       "    </tr>\n",
       "  </tbody>\n",
       "</table>\n",
       "<p>3 rows × 2296 columns</p>\n",
       "</div>"
      ],
      "text/plain": [
       "      10d10     10d12      10d4      10d6      10d8     12d12      12d6  \\\n",
       "0  0.000000  0.000183  0.016646  0.012599  0.022232  0.001720  0.014761   \n",
       "1  0.000000  0.000000  0.000000  0.001726  0.000000  0.001352  0.000000   \n",
       "2  0.009302  0.005703  0.000000  0.000000  0.006615  0.000000  0.008959   \n",
       "\n",
       "       14d6      1d10      1d12  ...     wrote   wrought        ye      year  \\\n",
       "0  0.000005  0.044026  0.041089  ...  0.000000  0.000000  0.000000  0.000000   \n",
       "1  0.000000  0.000000  0.000000  ...  0.002227  0.006593  0.001021  0.021123   \n",
       "2  0.008604  0.012722  0.024139  ...  0.000000  0.003142  0.001247  0.008266   \n",
       "\n",
       "     yellow       yet     yield   younger  yugoloth     zombi  \n",
       "0  0.016545  0.005482  0.000000  0.000000  0.000000  0.013282  \n",
       "1  0.000061  0.000000  0.001016  0.001910  0.017719  0.009709  \n",
       "2  0.004642  0.000000  0.000120  0.000016  0.000000  0.018183  \n",
       "\n",
       "[3 rows x 2296 columns]"
      ]
     },
     "execution_count": 32,
     "metadata": {},
     "output_type": "execute_result"
    }
   ],
   "source": [
    "h_df"
   ]
  },
  {
   "cell_type": "code",
   "execution_count": 33,
   "metadata": {},
   "outputs": [
    {
     "data": {
      "text/plain": [
       "damag      0.929306\n",
       "save       0.594439\n",
       "higher     0.501674\n",
       "slot       0.501306\n",
       "creatur    0.470182\n",
       "Name: 0, dtype: float64"
      ]
     },
     "execution_count": 33,
     "metadata": {},
     "output_type": "execute_result"
    }
   ],
   "source": [
    "h_df.loc[0].nlargest()"
   ]
  },
  {
   "cell_type": "code",
   "execution_count": 34,
   "metadata": {},
   "outputs": [
    {
     "data": {
      "text/html": [
       "<div>\n",
       "<style scoped>\n",
       "    .dataframe tbody tr th:only-of-type {\n",
       "        vertical-align: middle;\n",
       "    }\n",
       "\n",
       "    .dataframe tbody tr th {\n",
       "        vertical-align: top;\n",
       "    }\n",
       "\n",
       "    .dataframe thead th {\n",
       "        text-align: right;\n",
       "    }\n",
       "</style>\n",
       "<table border=\"1\" class=\"dataframe\">\n",
       "  <thead>\n",
       "    <tr style=\"text-align: right;\">\n",
       "      <th></th>\n",
       "      <th>block</th>\n",
       "      <th>creatur</th>\n",
       "      <th>damag</th>\n",
       "      <th>end</th>\n",
       "      <th>higher</th>\n",
       "      <th>object</th>\n",
       "      <th>save</th>\n",
       "      <th>slot</th>\n",
       "      <th>stat</th>\n",
       "      <th>target</th>\n",
       "      <th>throw</th>\n",
       "      <th>use</th>\n",
       "    </tr>\n",
       "  </thead>\n",
       "  <tbody>\n",
       "    <tr>\n",
       "      <th>0</th>\n",
       "      <td>NaN</td>\n",
       "      <td>0.470182</td>\n",
       "      <td>0.929306</td>\n",
       "      <td>NaN</td>\n",
       "      <td>0.501674</td>\n",
       "      <td>NaN</td>\n",
       "      <td>0.594439</td>\n",
       "      <td>0.501306</td>\n",
       "      <td>NaN</td>\n",
       "      <td>NaN</td>\n",
       "      <td>NaN</td>\n",
       "      <td>NaN</td>\n",
       "    </tr>\n",
       "    <tr>\n",
       "      <th>1</th>\n",
       "      <td>0.306122</td>\n",
       "      <td>0.441772</td>\n",
       "      <td>NaN</td>\n",
       "      <td>NaN</td>\n",
       "      <td>NaN</td>\n",
       "      <td>0.301404</td>\n",
       "      <td>NaN</td>\n",
       "      <td>NaN</td>\n",
       "      <td>0.330372</td>\n",
       "      <td>NaN</td>\n",
       "      <td>NaN</td>\n",
       "      <td>0.3668</td>\n",
       "    </tr>\n",
       "    <tr>\n",
       "      <th>2</th>\n",
       "      <td>NaN</td>\n",
       "      <td>0.395420</td>\n",
       "      <td>NaN</td>\n",
       "      <td>0.382909</td>\n",
       "      <td>NaN</td>\n",
       "      <td>NaN</td>\n",
       "      <td>0.398026</td>\n",
       "      <td>NaN</td>\n",
       "      <td>NaN</td>\n",
       "      <td>1.187369</td>\n",
       "      <td>0.326555</td>\n",
       "      <td>NaN</td>\n",
       "    </tr>\n",
       "  </tbody>\n",
       "</table>\n",
       "</div>"
      ],
      "text/plain": [
       "      block   creatur     damag       end    higher    object      save  \\\n",
       "0       NaN  0.470182  0.929306       NaN  0.501674       NaN  0.594439   \n",
       "1  0.306122  0.441772       NaN       NaN       NaN  0.301404       NaN   \n",
       "2       NaN  0.395420       NaN  0.382909       NaN       NaN  0.398026   \n",
       "\n",
       "       slot      stat    target     throw     use  \n",
       "0  0.501306       NaN       NaN       NaN     NaN  \n",
       "1       NaN  0.330372       NaN       NaN  0.3668  \n",
       "2       NaN       NaN  1.187369  0.326555     NaN  "
      ]
     },
     "execution_count": 34,
     "metadata": {},
     "output_type": "execute_result"
    }
   ],
   "source": [
    "nKeywords = h_df.apply(lambda x: x.nlargest()\n",
    "           ,axis=1)\n",
    "nKeywords"
   ]
  },
  {
   "cell_type": "code",
   "execution_count": null,
   "metadata": {},
   "outputs": [],
   "source": [
    "nKeywords.loc[0].dropna()"
   ]
  },
  {
   "cell_type": "code",
   "execution_count": null,
   "metadata": {},
   "outputs": [],
   "source": [
    "W[0].argmax()"
   ]
  },
  {
   "cell_type": "code",
   "execution_count": null,
   "metadata": {},
   "outputs": [],
   "source": [
    "W[7].argmax()"
   ]
  },
  {
   "cell_type": "code",
   "execution_count": null,
   "metadata": {},
   "outputs": [],
   "source": [
    "allSpells.iloc[0]"
   ]
  },
  {
   "cell_type": "code",
   "execution_count": null,
   "metadata": {},
   "outputs": [],
   "source": [
    "allSpells.iloc[0,-1]"
   ]
  },
  {
   "cell_type": "code",
   "execution_count": null,
   "metadata": {},
   "outputs": [],
   "source": []
  }
 ],
 "metadata": {
  "kernelspec": {
   "display_name": "Python 3.10.6 64-bit (windows store)",
   "language": "python",
   "name": "python3"
  },
  "language_info": {
   "codemirror_mode": {
    "name": "ipython",
    "version": 3
   },
   "file_extension": ".py",
   "mimetype": "text/x-python",
   "name": "python",
   "nbconvert_exporter": "python",
   "pygments_lexer": "ipython3",
   "version": "3.10.6"
  },
  "orig_nbformat": 4,
  "vscode": {
   "interpreter": {
    "hash": "69c41419eec6688ec9cada904bedb871d2dbaf68b3bd9079e2bde5c6a5ac820e"
   }
  }
 },
 "nbformat": 4,
 "nbformat_minor": 2
}
